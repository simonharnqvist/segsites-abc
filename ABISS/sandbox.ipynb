{
 "cells": [
  {
   "cell_type": "code",
   "execution_count": 1,
   "metadata": {},
   "outputs": [],
   "source": [
    "from abiss.generate_reference_data import simulate"
   ]
  },
  {
   "cell_type": "code",
   "execution_count": 2,
   "metadata": {},
   "outputs": [
    {
     "name": "stdout",
     "output_type": "stream",
     "text": [
      "Model: iso_2epoch (1/1)\n"
     ]
    },
    {
     "name": "stderr",
     "output_type": "stream",
     "text": [
      "100%|██████████| 10/10 [00:01<00:00,  7.58it/s]\n"
     ]
    },
    {
     "data": {
      "text/plain": [
       "(array([[[100.,   0.,   0., ...,   0.,   0.,   0.],\n",
       "         [100.,   0.,   0., ...,   0.,   0.,   0.],\n",
       "         [100.,   0.,   0., ...,   0.,   0.,   0.]],\n",
       " \n",
       "        [[100.,   0.,   0., ...,   0.,   0.,   0.],\n",
       "         [100.,   0.,   0., ...,   0.,   0.,   0.],\n",
       "         [100.,   0.,   0., ...,   0.,   0.,   0.]],\n",
       " \n",
       "        [[ 99.,   1.,   0., ...,   0.,   0.,   0.],\n",
       "         [100.,   0.,   0., ...,   0.,   0.,   0.],\n",
       "         [ 98.,   2.,   0., ...,   0.,   0.,   0.]],\n",
       " \n",
       "        ...,\n",
       " \n",
       "        [[100.,   0.,   0., ...,   0.,   0.,   0.],\n",
       "         [100.,   0.,   0., ...,   0.,   0.,   0.],\n",
       "         [100.,   0.,   0., ...,   0.,   0.,   0.]],\n",
       " \n",
       "        [[100.,   0.,   0., ...,   0.,   0.,   0.],\n",
       "         [ 99.,   1.,   0., ...,   0.,   0.,   0.],\n",
       "         [ 98.,   2.,   0., ...,   0.,   0.,   0.]],\n",
       " \n",
       "        [[100.,   0.,   0., ...,   0.,   0.,   0.],\n",
       "         [100.,   0.,   0., ...,   0.,   0.,   0.],\n",
       "         [ 99.,   1.,   0., ...,   0.,   0.,   0.]]]),\n",
       " array([[658.3189118995148, 865.6590642111383, None, None,\n",
       "         66.21146037516445, None, 1269.472919095407, 0.0, 0.0, 0, 0],\n",
       "        [746.4275037022373, 19.45195154024104, None, None,\n",
       "         624.2037900058131, None, 420.1516070683828, 0.0, 0.0, 0, 0],\n",
       "        [506.8244736071971, 391.67035485333537, None, None,\n",
       "         901.0100919228302, None, 832.6673178333305, 0.0, 0.0, 0, 0],\n",
       "        [715.4693388240128, 564.0021818974669, None, None,\n",
       "         766.6980914975599, None, 741.2454713906213, 0.0, 0.0, 0, 0],\n",
       "        [311.4204490402871, 653.6038419051222, None, None,\n",
       "         832.0330101358634, None, 2428.169088393077, 0.0, 0.0, 0, 0],\n",
       "        [228.58932388925123, 654.0564488755709, None, None,\n",
       "         914.1601143461271, None, 925.6082941895949, 0.0, 0.0, 0, 0],\n",
       "        [459.2320154774443, 865.107689027393, None, None,\n",
       "         516.3240289652135, None, 2731.526229527139, 0.0, 0.0, 0, 0],\n",
       "        [692.5465512248073, 968.5963534985915, None, None,\n",
       "         62.70655254961155, None, 1261.609735858997, 0.0, 0.0, 0, 0],\n",
       "        [36.456318505956766, 532.6087682229056, None, None,\n",
       "         756.6123013807058, None, 168.88080209995545, 0.0, 0.0, 0, 0],\n",
       "        [237.96539839008346, 283.9833210839401, None, None,\n",
       "         147.13821047739594, None, 1634.7761057283053, 0.0, 0.0, 0, 0]],\n",
       "       dtype=object),\n",
       " array(['iso_2epoch', 'iso_2epoch', 'iso_2epoch', 'iso_2epoch',\n",
       "        'iso_2epoch', 'iso_2epoch', 'iso_2epoch', 'iso_2epoch',\n",
       "        'iso_2epoch', 'iso_2epoch'], dtype='<U10'))"
      ]
     },
     "execution_count": 2,
     "metadata": {},
     "output_type": "execute_result"
    }
   ],
   "source": [
    "simulate(models=[\"iso_2epoch\"],\n",
    "         Ne_distr=\"uniform\",\n",
    "         Ne_distr_params=[0,1000],\n",
    "         tau_distr=\"uniform\",\n",
    "         tau_distr_params=[0,10],\n",
    "         M_distr=\"uniform\",\n",
    "         M_distr_params=[0,1],\n",
    "         mutation_rate=1e-8,\n",
    "         recombination_rate=1e-8,\n",
    "         blocklen=100,\n",
    "         num_blocks=[100, 100, 100],\n",
    "         num_sims_per_mod=10,\n",
    "         threads=4,\n",
    "         save_as=\"test.npz\")"
   ]
  },
  {
   "cell_type": "code",
   "execution_count": null,
   "metadata": {},
   "outputs": [],
   "source": []
  },
  {
   "cell_type": "code",
   "execution_count": null,
   "metadata": {},
   "outputs": [],
   "source": []
  }
 ],
 "metadata": {
  "kernelspec": {
   "display_name": "abiss",
   "language": "python",
   "name": "python3"
  },
  "language_info": {
   "codemirror_mode": {
    "name": "ipython",
    "version": 3
   },
   "file_extension": ".py",
   "mimetype": "text/x-python",
   "name": "python",
   "nbconvert_exporter": "python",
   "pygments_lexer": "ipython3",
   "version": "3.12.2"
  }
 },
 "nbformat": 4,
 "nbformat_minor": 2
}
