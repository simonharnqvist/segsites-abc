{
 "cells": [
  {
   "cell_type": "code",
   "execution_count": 1,
   "metadata": {},
   "outputs": [],
   "source": [
    "import msprime\n",
    "import functions\n",
    "import numpy as np\n",
    "import scipy\n",
    "import tqdm\n",
    "from joblib import Parallel, delayed\n",
    "import itertools\n",
    "import os\n",
    "from sklearn.ensemble import RandomForestClassifier, RandomForestRegressor\n",
    "import prototype\n",
    "from collections import Counter\n",
    "import pyranges as pr"
   ]
  },
  {
   "cell_type": "code",
   "execution_count": 2,
   "metadata": {},
   "outputs": [],
   "source": [
    "# prototype.generate_reference_embeddings(blocklen=1932,\n",
    "#                                         mutation_rate=2e-8, \n",
    "#                                         recombination_rate=1.5e-8,\n",
    "#                                         num_blocks_per_state=[5000, 5000, 15000],\n",
    "#                                         num_sims_per_mod=10_000,\n",
    "#                                         threads=-1,\n",
    "#                                         save_as=\"pongo_reference_25000\")"
   ]
  },
  {
   "cell_type": "code",
   "execution_count": 3,
   "metadata": {},
   "outputs": [
    {
     "name": "stderr",
     "output_type": "stream",
     "text": [
      "/Users/s2341012/mambaforge/envs/dismal/lib/python3.11/site-packages/pyranges/methods/init.py:45: FutureWarning: The default of observed=False is deprecated and will be changed to True in a future version of pandas. Pass observed=False to retain current behavior or observed=True to adopt the future default and silence this warning.\n",
      "  return {k: v for k, v in df.groupby(grpby_key)}\n"
     ]
    }
   ],
   "source": [
    "blocks = pr.read_bed(\"../simulations/stdpopsim_simulations/dismal_ponabe/PonAbe_blocks_1932.bed\")\n",
    "blocks_df = blocks.df.rename(columns={\"ThickStart\": \"Sample1\", \"ThickEnd\": \"Sample2\", \"ItemRGB\": \"NumSegSites\"}).iloc[:, [0,1,2,6,7,8]]\n",
    "pop1_samples = [\"Bornean_0\", \"Bornean_1\", \"Bornean_2\"]\n",
    "pop2_samples = [\"Sumatran_3\", \"Sumatran_4\", \"Sumatran_5\"]\n"
   ]
  },
  {
   "cell_type": "code",
   "execution_count": 4,
   "metadata": {},
   "outputs": [],
   "source": [
    "X = []\n",
    "for _ in range(100):    \n",
    "    s1_subset = blocks_df[\"NumSegSites\"][(blocks_df[\"Sample1\"].isin(pop1_samples)) & (blocks_df[\"Sample2\"].isin(pop1_samples))].sample(5000)\n",
    "    s2_subset = blocks_df[\"NumSegSites\"][(blocks_df[\"Sample1\"].isin(pop2_samples)) & (blocks_df[\"Sample2\"].isin(pop2_samples))].sample(5000)\n",
    "    s3_subset = blocks_df[\"NumSegSites\"][(blocks_df[\"Sample1\"].isin(pop1_samples)) & (blocks_df[\"Sample2\"].isin(pop2_samples))].sample(15000)\n",
    "\n",
    "    s1_counter = Counter(s1_subset)\n",
    "    s2_counter = Counter(s2_subset)\n",
    "    s3_counter = Counter(s3_subset)\n",
    "\n",
    "    S = np.array([functions.counter_to_arr(counter, 1932) for counter in [s1_counter, s2_counter, s3_counter]], dtype=\"int_\")\n",
    "    X.append(np.concatenate(S))\n",
    "\n",
    "X_true = np.array(X)"
   ]
  },
  {
   "cell_type": "code",
   "execution_count": 5,
   "metadata": {},
   "outputs": [
    {
     "data": {
      "text/plain": [
       "array([[2476,  922,  552, ...,    0,    0,    0],\n",
       "       [2520,  953,  572, ...,    0,    0,    0],\n",
       "       [2529,  886,  557, ...,    0,    0,    0],\n",
       "       ...,\n",
       "       [2476,  970,  519, ...,    0,    0,    0],\n",
       "       [2477,  955,  540, ...,    0,    0,    0],\n",
       "       [2466,  923,  545, ...,    0,    0,    0]])"
      ]
     },
     "execution_count": 5,
     "metadata": {},
     "output_type": "execute_result"
    }
   ],
   "source": [
    "X_true"
   ]
  },
  {
   "cell_type": "markdown",
   "metadata": {},
   "source": [
    "## Model classifier"
   ]
  },
  {
   "cell_type": "code",
   "execution_count": 6,
   "metadata": {},
   "outputs": [],
   "source": [
    "npz = np.load(\"pongo_reference_25000.npz\", allow_pickle=True)\n",
    "X_sparse = npz[\"X\"]\n",
    "y_model = npz[\"y_model\"]"
   ]
  },
  {
   "cell_type": "code",
   "execution_count": 7,
   "metadata": {},
   "outputs": [],
   "source": [
    "X = np.vstack([arr.todense() for arr in X_sparse])"
   ]
  },
  {
   "cell_type": "code",
   "execution_count": 8,
   "metadata": {},
   "outputs": [],
   "source": [
    "model_classifier = RandomForestClassifier(n_estimators=500)"
   ]
  },
  {
   "cell_type": "code",
   "execution_count": 9,
   "metadata": {},
   "outputs": [
    {
     "data": {
      "text/html": [
       "<style>#sk-container-id-1 {color: black;}#sk-container-id-1 pre{padding: 0;}#sk-container-id-1 div.sk-toggleable {background-color: white;}#sk-container-id-1 label.sk-toggleable__label {cursor: pointer;display: block;width: 100%;margin-bottom: 0;padding: 0.3em;box-sizing: border-box;text-align: center;}#sk-container-id-1 label.sk-toggleable__label-arrow:before {content: \"▸\";float: left;margin-right: 0.25em;color: #696969;}#sk-container-id-1 label.sk-toggleable__label-arrow:hover:before {color: black;}#sk-container-id-1 div.sk-estimator:hover label.sk-toggleable__label-arrow:before {color: black;}#sk-container-id-1 div.sk-toggleable__content {max-height: 0;max-width: 0;overflow: hidden;text-align: left;background-color: #f0f8ff;}#sk-container-id-1 div.sk-toggleable__content pre {margin: 0.2em;color: black;border-radius: 0.25em;background-color: #f0f8ff;}#sk-container-id-1 input.sk-toggleable__control:checked~div.sk-toggleable__content {max-height: 200px;max-width: 100%;overflow: auto;}#sk-container-id-1 input.sk-toggleable__control:checked~label.sk-toggleable__label-arrow:before {content: \"▾\";}#sk-container-id-1 div.sk-estimator input.sk-toggleable__control:checked~label.sk-toggleable__label {background-color: #d4ebff;}#sk-container-id-1 div.sk-label input.sk-toggleable__control:checked~label.sk-toggleable__label {background-color: #d4ebff;}#sk-container-id-1 input.sk-hidden--visually {border: 0;clip: rect(1px 1px 1px 1px);clip: rect(1px, 1px, 1px, 1px);height: 1px;margin: -1px;overflow: hidden;padding: 0;position: absolute;width: 1px;}#sk-container-id-1 div.sk-estimator {font-family: monospace;background-color: #f0f8ff;border: 1px dotted black;border-radius: 0.25em;box-sizing: border-box;margin-bottom: 0.5em;}#sk-container-id-1 div.sk-estimator:hover {background-color: #d4ebff;}#sk-container-id-1 div.sk-parallel-item::after {content: \"\";width: 100%;border-bottom: 1px solid gray;flex-grow: 1;}#sk-container-id-1 div.sk-label:hover label.sk-toggleable__label {background-color: #d4ebff;}#sk-container-id-1 div.sk-serial::before {content: \"\";position: absolute;border-left: 1px solid gray;box-sizing: border-box;top: 0;bottom: 0;left: 50%;z-index: 0;}#sk-container-id-1 div.sk-serial {display: flex;flex-direction: column;align-items: center;background-color: white;padding-right: 0.2em;padding-left: 0.2em;position: relative;}#sk-container-id-1 div.sk-item {position: relative;z-index: 1;}#sk-container-id-1 div.sk-parallel {display: flex;align-items: stretch;justify-content: center;background-color: white;position: relative;}#sk-container-id-1 div.sk-item::before, #sk-container-id-1 div.sk-parallel-item::before {content: \"\";position: absolute;border-left: 1px solid gray;box-sizing: border-box;top: 0;bottom: 0;left: 50%;z-index: -1;}#sk-container-id-1 div.sk-parallel-item {display: flex;flex-direction: column;z-index: 1;position: relative;background-color: white;}#sk-container-id-1 div.sk-parallel-item:first-child::after {align-self: flex-end;width: 50%;}#sk-container-id-1 div.sk-parallel-item:last-child::after {align-self: flex-start;width: 50%;}#sk-container-id-1 div.sk-parallel-item:only-child::after {width: 0;}#sk-container-id-1 div.sk-dashed-wrapped {border: 1px dashed gray;margin: 0 0.4em 0.5em 0.4em;box-sizing: border-box;padding-bottom: 0.4em;background-color: white;}#sk-container-id-1 div.sk-label label {font-family: monospace;font-weight: bold;display: inline-block;line-height: 1.2em;}#sk-container-id-1 div.sk-label-container {text-align: center;}#sk-container-id-1 div.sk-container {/* jupyter's `normalize.less` sets `[hidden] { display: none; }` but bootstrap.min.css set `[hidden] { display: none !important; }` so we also need the `!important` here to be able to override the default hidden behavior on the sphinx rendered scikit-learn.org. See: https://github.com/scikit-learn/scikit-learn/issues/21755 */display: inline-block !important;position: relative;}#sk-container-id-1 div.sk-text-repr-fallback {display: none;}</style><div id=\"sk-container-id-1\" class=\"sk-top-container\"><div class=\"sk-text-repr-fallback\"><pre>RandomForestClassifier(n_estimators=500)</pre><b>In a Jupyter environment, please rerun this cell to show the HTML representation or trust the notebook. <br />On GitHub, the HTML representation is unable to render, please try loading this page with nbviewer.org.</b></div><div class=\"sk-container\" hidden><div class=\"sk-item\"><div class=\"sk-estimator sk-toggleable\"><input class=\"sk-toggleable__control sk-hidden--visually\" id=\"sk-estimator-id-1\" type=\"checkbox\" checked><label for=\"sk-estimator-id-1\" class=\"sk-toggleable__label sk-toggleable__label-arrow\">RandomForestClassifier</label><div class=\"sk-toggleable__content\"><pre>RandomForestClassifier(n_estimators=500)</pre></div></div></div></div></div>"
      ],
      "text/plain": [
       "RandomForestClassifier(n_estimators=500)"
      ]
     },
     "execution_count": 9,
     "metadata": {},
     "output_type": "execute_result"
    }
   ],
   "source": [
    "model_classifier.fit(X, y_model)"
   ]
  },
  {
   "cell_type": "code",
   "execution_count": 14,
   "metadata": {},
   "outputs": [
    {
     "data": {
      "text/plain": [
       "array(['im', 'im', 'im', 'im', 'im', 'im', 'im', 'im', 'im', 'im', 'im',\n",
       "       'im', 'im', 'im', 'im', 'im', 'im', 'im', 'im', 'im', 'im', 'im',\n",
       "       'im', 'im', 'im', 'im', 'im', 'im', 'im', 'im', 'im', 'im', 'im',\n",
       "       'im', 'im', 'im', 'im', 'im', 'im', 'im', 'im', 'im', 'im', 'im',\n",
       "       'im', 'im', 'im', 'im', 'im', 'im', 'im', 'im', 'im', 'im', 'im',\n",
       "       'im', 'im', 'im', 'im', 'im', 'im', 'im', 'im', 'im', 'im', 'im',\n",
       "       'im', 'im', 'im', 'im', 'im', 'im', 'im', 'im', 'im', 'im', 'im',\n",
       "       'im', 'im', 'im', 'im', 'im', 'im', 'im', 'im', 'im', 'im', 'im',\n",
       "       'im', 'im', 'im', 'im', 'im', 'im', 'im', 'im', 'im', 'im', 'im',\n",
       "       'im'], dtype='<U10')"
      ]
     },
     "execution_count": 14,
     "metadata": {},
     "output_type": "execute_result"
    }
   ],
   "source": [
    "model_classifier.predict(X_true)"
   ]
  },
  {
   "cell_type": "markdown",
   "metadata": {},
   "source": [
    "### Parameter regressor"
   ]
  },
  {
   "cell_type": "code",
   "execution_count": 11,
   "metadata": {},
   "outputs": [],
   "source": [
    "param_regressor = RandomForestRegressor(n_estimators=500)"
   ]
  },
  {
   "cell_type": "code",
   "execution_count": 12,
   "metadata": {},
   "outputs": [
    {
     "data": {
      "text/html": [
       "<style>#sk-container-id-2 {color: black;}#sk-container-id-2 pre{padding: 0;}#sk-container-id-2 div.sk-toggleable {background-color: white;}#sk-container-id-2 label.sk-toggleable__label {cursor: pointer;display: block;width: 100%;margin-bottom: 0;padding: 0.3em;box-sizing: border-box;text-align: center;}#sk-container-id-2 label.sk-toggleable__label-arrow:before {content: \"▸\";float: left;margin-right: 0.25em;color: #696969;}#sk-container-id-2 label.sk-toggleable__label-arrow:hover:before {color: black;}#sk-container-id-2 div.sk-estimator:hover label.sk-toggleable__label-arrow:before {color: black;}#sk-container-id-2 div.sk-toggleable__content {max-height: 0;max-width: 0;overflow: hidden;text-align: left;background-color: #f0f8ff;}#sk-container-id-2 div.sk-toggleable__content pre {margin: 0.2em;color: black;border-radius: 0.25em;background-color: #f0f8ff;}#sk-container-id-2 input.sk-toggleable__control:checked~div.sk-toggleable__content {max-height: 200px;max-width: 100%;overflow: auto;}#sk-container-id-2 input.sk-toggleable__control:checked~label.sk-toggleable__label-arrow:before {content: \"▾\";}#sk-container-id-2 div.sk-estimator input.sk-toggleable__control:checked~label.sk-toggleable__label {background-color: #d4ebff;}#sk-container-id-2 div.sk-label input.sk-toggleable__control:checked~label.sk-toggleable__label {background-color: #d4ebff;}#sk-container-id-2 input.sk-hidden--visually {border: 0;clip: rect(1px 1px 1px 1px);clip: rect(1px, 1px, 1px, 1px);height: 1px;margin: -1px;overflow: hidden;padding: 0;position: absolute;width: 1px;}#sk-container-id-2 div.sk-estimator {font-family: monospace;background-color: #f0f8ff;border: 1px dotted black;border-radius: 0.25em;box-sizing: border-box;margin-bottom: 0.5em;}#sk-container-id-2 div.sk-estimator:hover {background-color: #d4ebff;}#sk-container-id-2 div.sk-parallel-item::after {content: \"\";width: 100%;border-bottom: 1px solid gray;flex-grow: 1;}#sk-container-id-2 div.sk-label:hover label.sk-toggleable__label {background-color: #d4ebff;}#sk-container-id-2 div.sk-serial::before {content: \"\";position: absolute;border-left: 1px solid gray;box-sizing: border-box;top: 0;bottom: 0;left: 50%;z-index: 0;}#sk-container-id-2 div.sk-serial {display: flex;flex-direction: column;align-items: center;background-color: white;padding-right: 0.2em;padding-left: 0.2em;position: relative;}#sk-container-id-2 div.sk-item {position: relative;z-index: 1;}#sk-container-id-2 div.sk-parallel {display: flex;align-items: stretch;justify-content: center;background-color: white;position: relative;}#sk-container-id-2 div.sk-item::before, #sk-container-id-2 div.sk-parallel-item::before {content: \"\";position: absolute;border-left: 1px solid gray;box-sizing: border-box;top: 0;bottom: 0;left: 50%;z-index: -1;}#sk-container-id-2 div.sk-parallel-item {display: flex;flex-direction: column;z-index: 1;position: relative;background-color: white;}#sk-container-id-2 div.sk-parallel-item:first-child::after {align-self: flex-end;width: 50%;}#sk-container-id-2 div.sk-parallel-item:last-child::after {align-self: flex-start;width: 50%;}#sk-container-id-2 div.sk-parallel-item:only-child::after {width: 0;}#sk-container-id-2 div.sk-dashed-wrapped {border: 1px dashed gray;margin: 0 0.4em 0.5em 0.4em;box-sizing: border-box;padding-bottom: 0.4em;background-color: white;}#sk-container-id-2 div.sk-label label {font-family: monospace;font-weight: bold;display: inline-block;line-height: 1.2em;}#sk-container-id-2 div.sk-label-container {text-align: center;}#sk-container-id-2 div.sk-container {/* jupyter's `normalize.less` sets `[hidden] { display: none; }` but bootstrap.min.css set `[hidden] { display: none !important; }` so we also need the `!important` here to be able to override the default hidden behavior on the sphinx rendered scikit-learn.org. See: https://github.com/scikit-learn/scikit-learn/issues/21755 */display: inline-block !important;position: relative;}#sk-container-id-2 div.sk-text-repr-fallback {display: none;}</style><div id=\"sk-container-id-2\" class=\"sk-top-container\"><div class=\"sk-text-repr-fallback\"><pre>RandomForestRegressor(n_estimators=500)</pre><b>In a Jupyter environment, please rerun this cell to show the HTML representation or trust the notebook. <br />On GitHub, the HTML representation is unable to render, please try loading this page with nbviewer.org.</b></div><div class=\"sk-container\" hidden><div class=\"sk-item\"><div class=\"sk-estimator sk-toggleable\"><input class=\"sk-toggleable__control sk-hidden--visually\" id=\"sk-estimator-id-2\" type=\"checkbox\" checked><label for=\"sk-estimator-id-2\" class=\"sk-toggleable__label sk-toggleable__label-arrow\">RandomForestRegressor</label><div class=\"sk-toggleable__content\"><pre>RandomForestRegressor(n_estimators=500)</pre></div></div></div></div></div>"
      ],
      "text/plain": [
       "RandomForestRegressor(n_estimators=500)"
      ]
     },
     "execution_count": 12,
     "metadata": {},
     "output_type": "execute_result"
    }
   ],
   "source": [
    "y_params = npz[\"y_params\"][npz[\"y_model\"] == \"im\", :]\n",
    "X_im = X[npz[\"y_model\"] == \"im\"]\n",
    "param_regressor.fit(X_im, y_params)"
   ]
  },
  {
   "cell_type": "code",
   "execution_count": 15,
   "metadata": {},
   "outputs": [
    {
     "data": {
      "text/plain": [
       "array([[2.99876972e+05, 6.10996161e+05, 9.95756048e+05, 9.11574776e+05,\n",
       "        1.17508936e+01, 1.22523892e+01],\n",
       "       [2.80417150e+05, 6.20504069e+05, 9.98037922e+05, 9.50977385e+05,\n",
       "        1.20527555e+01, 1.21034243e+01],\n",
       "       [3.54772938e+05, 5.74199063e+05, 9.16259216e+05, 9.72686314e+05,\n",
       "        1.17624499e+01, 1.21382369e+01],\n",
       "       [3.16549278e+05, 6.17539303e+05, 1.00780229e+06, 9.72592653e+05,\n",
       "        1.18076325e+01, 1.21047718e+01],\n",
       "       [3.63831923e+05, 6.20363283e+05, 9.81786393e+05, 1.00855178e+06,\n",
       "        1.16570544e+01, 1.21242154e+01],\n",
       "       [2.86094008e+05, 6.20542633e+05, 9.89259680e+05, 9.47261196e+05,\n",
       "        1.18558183e+01, 1.20266461e+01],\n",
       "       [2.78240536e+05, 6.14386457e+05, 9.85866940e+05, 9.23583939e+05,\n",
       "        1.18339686e+01, 1.21760628e+01],\n",
       "       [3.65896985e+05, 5.73917015e+05, 1.01072886e+06, 9.53162383e+05,\n",
       "        1.16751597e+01, 1.19591333e+01],\n",
       "       [3.49039177e+05, 5.88853842e+05, 9.75056225e+05, 1.00176223e+06,\n",
       "        1.17373917e+01, 1.20659309e+01],\n",
       "       [2.92261683e+05, 6.12076607e+05, 9.41898733e+05, 9.68427185e+05,\n",
       "        1.19084158e+01, 1.21585504e+01],\n",
       "       [3.14785858e+05, 5.96688394e+05, 9.80352783e+05, 9.29167799e+05,\n",
       "        1.17389694e+01, 1.19588716e+01],\n",
       "       [2.83738154e+05, 5.72411027e+05, 9.75059731e+05, 9.28896284e+05,\n",
       "        1.21287466e+01, 1.24706265e+01],\n",
       "       [3.75183172e+05, 6.05519110e+05, 1.02424478e+06, 9.87362655e+05,\n",
       "        1.15902044e+01, 1.19395968e+01],\n",
       "       [3.34385089e+05, 6.01874285e+05, 9.30251356e+05, 9.84268524e+05,\n",
       "        1.25198157e+01, 1.23486122e+01],\n",
       "       [2.63336729e+05, 6.24013220e+05, 9.89630162e+05, 9.81476836e+05,\n",
       "        1.18809723e+01, 1.20323193e+01],\n",
       "       [2.86399912e+05, 5.97368942e+05, 9.72439107e+05, 9.18667311e+05,\n",
       "        1.19144056e+01, 1.20192423e+01],\n",
       "       [3.99337420e+05, 5.34052540e+05, 1.00172298e+06, 1.00297442e+06,\n",
       "        1.17106391e+01, 1.23258124e+01],\n",
       "       [3.76051752e+05, 5.76274120e+05, 9.70049911e+05, 9.74187108e+05,\n",
       "        1.19130742e+01, 1.23176923e+01],\n",
       "       [4.14868257e+05, 5.76017817e+05, 9.48662682e+05, 1.00054783e+06,\n",
       "        1.18639846e+01, 1.21512639e+01],\n",
       "       [2.91555795e+05, 5.68305702e+05, 9.43860230e+05, 9.35584218e+05,\n",
       "        1.18183347e+01, 1.24862101e+01],\n",
       "       [3.51732311e+05, 6.07514223e+05, 9.27428644e+05, 9.60540745e+05,\n",
       "        1.20295115e+01, 1.23543323e+01],\n",
       "       [3.98788450e+05, 5.49017080e+05, 9.64683976e+05, 9.54688776e+05,\n",
       "        1.15596251e+01, 1.21310244e+01],\n",
       "       [3.38263979e+05, 5.85518813e+05, 9.94672764e+05, 9.86093436e+05,\n",
       "        1.12922121e+01, 1.17306302e+01],\n",
       "       [3.42402167e+05, 5.70549916e+05, 9.99699627e+05, 9.90205998e+05,\n",
       "        1.16300252e+01, 1.20878615e+01],\n",
       "       [3.56929818e+05, 5.88275255e+05, 1.01320889e+06, 9.73015008e+05,\n",
       "        1.16439291e+01, 1.20458747e+01],\n",
       "       [3.11969943e+05, 6.34665185e+05, 9.88882123e+05, 1.00414933e+06,\n",
       "        1.18639807e+01, 1.19256269e+01],\n",
       "       [3.62664577e+05, 5.61890574e+05, 9.41560849e+05, 9.99713988e+05,\n",
       "        1.18585946e+01, 1.24062861e+01],\n",
       "       [2.91935490e+05, 5.76017447e+05, 9.46530775e+05, 9.71541540e+05,\n",
       "        1.18979573e+01, 1.21561460e+01],\n",
       "       [3.45294337e+05, 5.36261599e+05, 9.77648043e+05, 9.91197499e+05,\n",
       "        1.15239563e+01, 1.23907127e+01],\n",
       "       [2.71127837e+05, 6.10193386e+05, 9.39211781e+05, 1.00058256e+06,\n",
       "        1.16629655e+01, 1.22834986e+01],\n",
       "       [2.82537711e+05, 5.80296581e+05, 9.90641221e+05, 9.67075850e+05,\n",
       "        1.21937835e+01, 1.22736602e+01],\n",
       "       [3.53074248e+05, 5.76150684e+05, 1.00190087e+06, 9.13637991e+05,\n",
       "        1.19839433e+01, 1.16105205e+01],\n",
       "       [3.65198085e+05, 5.82065247e+05, 1.00880238e+06, 9.53410530e+05,\n",
       "        1.14374944e+01, 1.17951884e+01],\n",
       "       [2.94624909e+05, 6.14102246e+05, 1.02410899e+06, 9.48268788e+05,\n",
       "        1.18390106e+01, 1.23181953e+01],\n",
       "       [3.73548626e+05, 5.59568978e+05, 9.83107889e+05, 9.79605105e+05,\n",
       "        1.15565739e+01, 1.21011603e+01],\n",
       "       [3.61264326e+05, 5.70814592e+05, 9.78833287e+05, 9.75180834e+05,\n",
       "        1.17238206e+01, 1.18864661e+01],\n",
       "       [3.47716378e+05, 5.37895833e+05, 9.92571898e+05, 9.39710279e+05,\n",
       "        1.18912579e+01, 1.20749165e+01],\n",
       "       [3.34226262e+05, 5.67234828e+05, 9.89183691e+05, 9.91224791e+05,\n",
       "        1.15694808e+01, 1.19882801e+01],\n",
       "       [2.87691887e+05, 6.15518042e+05, 9.72440198e+05, 8.99449033e+05,\n",
       "        1.18679213e+01, 1.23216778e+01],\n",
       "       [2.72872822e+05, 6.25742707e+05, 9.04399613e+05, 9.43702624e+05,\n",
       "        1.20754825e+01, 1.26674699e+01],\n",
       "       [2.91526462e+05, 6.22038210e+05, 9.10809522e+05, 9.24204687e+05,\n",
       "        1.21048890e+01, 1.22832863e+01],\n",
       "       [3.59545162e+05, 5.91959295e+05, 1.04818563e+06, 9.77913612e+05,\n",
       "        1.12728785e+01, 1.20823586e+01],\n",
       "       [3.25093943e+05, 5.97262868e+05, 9.56297928e+05, 9.85432608e+05,\n",
       "        1.19685024e+01, 1.21243822e+01],\n",
       "       [2.86222121e+05, 6.22479024e+05, 9.99417287e+05, 9.51642523e+05,\n",
       "        1.20257050e+01, 1.22448806e+01],\n",
       "       [2.96716380e+05, 5.98935727e+05, 8.99385558e+05, 9.90893714e+05,\n",
       "        1.22503703e+01, 1.23975786e+01],\n",
       "       [3.05348691e+05, 6.21737901e+05, 1.00362579e+06, 9.64184117e+05,\n",
       "        1.16784397e+01, 1.19413800e+01],\n",
       "       [2.86959094e+05, 5.88208014e+05, 8.92561204e+05, 9.72168382e+05,\n",
       "        1.19817874e+01, 1.27673137e+01],\n",
       "       [3.01495437e+05, 5.99980064e+05, 9.97098799e+05, 9.35929735e+05,\n",
       "        1.16877306e+01, 1.21509506e+01],\n",
       "       [3.70330889e+05, 5.58804751e+05, 1.01596921e+06, 9.67706704e+05,\n",
       "        1.15788223e+01, 1.21272012e+01],\n",
       "       [3.73247586e+05, 5.90682659e+05, 9.31579241e+05, 9.96310251e+05,\n",
       "        1.17059001e+01, 1.21838641e+01],\n",
       "       [3.03442013e+05, 6.08767817e+05, 1.00321364e+06, 9.66312804e+05,\n",
       "        1.16895553e+01, 1.19502862e+01],\n",
       "       [3.72319975e+05, 5.73119748e+05, 1.03329925e+06, 9.36259305e+05,\n",
       "        1.14546105e+01, 1.20273161e+01],\n",
       "       [3.94242546e+05, 5.59583510e+05, 1.00591049e+06, 1.00483234e+06,\n",
       "        1.16202072e+01, 1.20003065e+01],\n",
       "       [3.15915677e+05, 6.32402170e+05, 1.04782821e+06, 9.60398543e+05,\n",
       "        1.17305623e+01, 1.20776318e+01],\n",
       "       [2.96020470e+05, 6.17374563e+05, 1.03025210e+06, 9.47082088e+05,\n",
       "        1.17507738e+01, 1.22907511e+01],\n",
       "       [3.22977478e+05, 5.97798173e+05, 9.74538857e+05, 9.59788984e+05,\n",
       "        1.17919194e+01, 1.20851818e+01],\n",
       "       [3.01646427e+05, 6.03138741e+05, 9.50708165e+05, 9.45251851e+05,\n",
       "        1.20765347e+01, 1.18334978e+01],\n",
       "       [2.72708248e+05, 5.77641010e+05, 9.44207312e+05, 9.91303759e+05,\n",
       "        1.17876162e+01, 1.22249007e+01],\n",
       "       [3.83081932e+05, 5.99541925e+05, 9.93075078e+05, 1.00324778e+06,\n",
       "        1.13778788e+01, 1.20521779e+01],\n",
       "       [3.80103730e+05, 5.93852773e+05, 9.80063912e+05, 1.00999051e+06,\n",
       "        1.16296955e+01, 1.21557032e+01],\n",
       "       [3.47586410e+05, 5.77788775e+05, 9.93182122e+05, 9.55207172e+05,\n",
       "        1.17154823e+01, 1.17991569e+01],\n",
       "       [2.98620178e+05, 6.16295199e+05, 9.70292729e+05, 9.24835797e+05,\n",
       "        1.21660327e+01, 1.22259723e+01],\n",
       "       [4.15309077e+05, 5.58820704e+05, 1.03802600e+06, 9.84938103e+05,\n",
       "        1.15804631e+01, 1.15189263e+01],\n",
       "       [3.01532823e+05, 5.91002500e+05, 9.75636343e+05, 9.35322434e+05,\n",
       "        1.21325882e+01, 1.21995288e+01],\n",
       "       [3.80454539e+05, 5.56196589e+05, 1.03164707e+06, 9.47207219e+05,\n",
       "        1.16462426e+01, 1.21989010e+01],\n",
       "       [3.04665397e+05, 6.03288675e+05, 9.86431358e+05, 9.68886067e+05,\n",
       "        1.20152271e+01, 1.24271034e+01],\n",
       "       [3.49510485e+05, 5.84761068e+05, 9.81382191e+05, 9.93530807e+05,\n",
       "        1.14735360e+01, 1.20166528e+01],\n",
       "       [3.06600146e+05, 5.93027656e+05, 1.02818776e+06, 9.37709156e+05,\n",
       "        1.18838423e+01, 1.20684647e+01],\n",
       "       [2.60308686e+05, 6.11553885e+05, 9.69802140e+05, 9.27901288e+05,\n",
       "        1.19345769e+01, 1.17679217e+01],\n",
       "       [3.64900149e+05, 5.67575193e+05, 9.77273284e+05, 9.60649197e+05,\n",
       "        1.17003793e+01, 1.21922255e+01],\n",
       "       [3.77298553e+05, 5.63597565e+05, 1.03587813e+06, 9.60583137e+05,\n",
       "        1.15289985e+01, 1.20952682e+01],\n",
       "       [2.79557681e+05, 6.02298099e+05, 9.64829288e+05, 9.32017758e+05,\n",
       "        1.17290315e+01, 1.19829772e+01],\n",
       "       [2.99145077e+05, 6.09551264e+05, 1.00537245e+06, 9.78308570e+05,\n",
       "        1.20750581e+01, 1.20115679e+01],\n",
       "       [3.50843645e+05, 5.81426277e+05, 1.04006534e+06, 9.71616362e+05,\n",
       "        1.14240466e+01, 1.13725318e+01],\n",
       "       [2.81725385e+05, 5.99704555e+05, 9.59675415e+05, 9.44077318e+05,\n",
       "        1.18064162e+01, 1.22005936e+01],\n",
       "       [2.88786362e+05, 6.06028090e+05, 9.51172016e+05, 9.51509518e+05,\n",
       "        1.19897767e+01, 1.20593817e+01],\n",
       "       [3.42706414e+05, 5.36248464e+05, 9.56633082e+05, 9.52834402e+05,\n",
       "        1.15691489e+01, 1.20617834e+01],\n",
       "       [3.86878512e+05, 5.57247426e+05, 9.66589096e+05, 9.44855826e+05,\n",
       "        1.16066781e+01, 1.17756909e+01],\n",
       "       [2.94780209e+05, 6.05184537e+05, 9.40263235e+05, 9.79693043e+05,\n",
       "        1.24250457e+01, 1.23348551e+01],\n",
       "       [3.14987134e+05, 6.00993485e+05, 9.35054374e+05, 9.70537875e+05,\n",
       "        1.19130371e+01, 1.24568322e+01],\n",
       "       [3.78266347e+05, 5.64554769e+05, 9.83090955e+05, 9.43638780e+05,\n",
       "        1.19112536e+01, 1.19515250e+01],\n",
       "       [3.95819072e+05, 5.40816379e+05, 1.03145124e+06, 9.84743992e+05,\n",
       "        1.14214787e+01, 1.22773690e+01],\n",
       "       [2.87421884e+05, 5.97710770e+05, 9.89825295e+05, 9.15308255e+05,\n",
       "        1.17764490e+01, 1.21739092e+01],\n",
       "       [3.46226805e+05, 5.64833683e+05, 9.76700198e+05, 9.74071374e+05,\n",
       "        1.19329826e+01, 1.22506181e+01],\n",
       "       [3.31743561e+05, 5.70606321e+05, 9.75905614e+05, 9.45551032e+05,\n",
       "        1.17850501e+01, 1.21984403e+01],\n",
       "       [2.97839218e+05, 6.20871066e+05, 9.15704524e+05, 9.74113210e+05,\n",
       "        1.19665049e+01, 1.23437920e+01],\n",
       "       [3.01453336e+05, 5.87874177e+05, 1.03171060e+06, 9.78280304e+05,\n",
       "        1.18649716e+01, 1.21053391e+01],\n",
       "       [3.65647864e+05, 5.78883035e+05, 9.29183660e+05, 1.02371040e+06,\n",
       "        1.16968471e+01, 1.19298738e+01],\n",
       "       [3.92938681e+05, 5.94922865e+05, 9.90917790e+05, 9.75013384e+05,\n",
       "        1.16989139e+01, 1.20848267e+01],\n",
       "       [3.51160913e+05, 5.99833546e+05, 1.01482780e+06, 9.71123747e+05,\n",
       "        1.17610643e+01, 1.19571552e+01],\n",
       "       [4.02320764e+05, 5.79366777e+05, 1.03266177e+06, 9.96749551e+05,\n",
       "        1.11646949e+01, 1.17186881e+01],\n",
       "       [3.01943101e+05, 6.50437815e+05, 9.59599355e+05, 9.82518064e+05,\n",
       "        1.22641177e+01, 1.19780025e+01],\n",
       "       [3.08768418e+05, 6.17780563e+05, 9.53159311e+05, 9.66700152e+05,\n",
       "        1.19500436e+01, 1.18867650e+01],\n",
       "       [3.11582690e+05, 5.93919269e+05, 9.80580192e+05, 9.66467021e+05,\n",
       "        1.18829816e+01, 1.19709754e+01],\n",
       "       [3.62939483e+05, 5.91791567e+05, 1.03954152e+06, 9.39563680e+05,\n",
       "        1.16006666e+01, 1.18044661e+01],\n",
       "       [2.94731990e+05, 6.23804135e+05, 1.02424970e+06, 9.54500838e+05,\n",
       "        1.14389207e+01, 1.17483558e+01],\n",
       "       [3.03004436e+05, 6.03858516e+05, 9.32275285e+05, 9.44343607e+05,\n",
       "        1.20785420e+01, 1.21407573e+01],\n",
       "       [3.33193606e+05, 5.99259458e+05, 9.98429796e+05, 9.63848253e+05,\n",
       "        1.19406282e+01, 1.19385663e+01],\n",
       "       [3.01172220e+05, 6.24398105e+05, 1.01102378e+06, 9.33751930e+05,\n",
       "        1.17074776e+01, 1.17896019e+01],\n",
       "       [3.50411579e+05, 5.87682158e+05, 1.00128922e+06, 9.64722561e+05,\n",
       "        1.14424086e+01, 1.19851132e+01]])"
      ]
     },
     "execution_count": 15,
     "metadata": {},
     "output_type": "execute_result"
    }
   ],
   "source": [
    "param_regressor.predict(X_true)"
   ]
  },
  {
   "cell_type": "code",
   "execution_count": null,
   "metadata": {},
   "outputs": [],
   "source": []
  }
 ],
 "metadata": {
  "kernelspec": {
   "display_name": "dismal",
   "language": "python",
   "name": "python3"
  },
  "language_info": {
   "codemirror_mode": {
    "name": "ipython",
    "version": 3
   },
   "file_extension": ".py",
   "mimetype": "text/x-python",
   "name": "python",
   "nbconvert_exporter": "python",
   "pygments_lexer": "ipython3",
   "version": "3.11.3"
  }
 },
 "nbformat": 4,
 "nbformat_minor": 2
}
