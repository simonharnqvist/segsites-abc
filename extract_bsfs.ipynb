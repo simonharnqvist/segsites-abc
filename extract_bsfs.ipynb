{
 "cells": [
  {
   "cell_type": "code",
   "execution_count": 2,
   "metadata": {},
   "outputs": [
    {
     "name": "stderr",
     "output_type": "stream",
     "text": [
      "/Users/s2341012/.local/lib/python3.12/site-packages/pandas/core/arrays/masked.py:60: UserWarning: Pandas requires version '1.3.6' or newer of 'bottleneck' (version '1.3.5' currently installed).\n",
      "  from pandas.core import (\n",
      "/Users/s2341012/.local/lib/python3.12/site-packages/stdpopsim/catalog/HomSap/demographic_models.py:158: FutureWarning: Calling int on a single element Series is deprecated and will raise a TypeError in the future. Use int(ser.iloc[0]) instead\n",
      "  time=int(extended_GF.time.head(1) - 1), rate=0\n",
      "/Users/s2341012/.local/lib/python3.12/site-packages/stdpopsim/catalog/HomSap/demographic_models.py:161: FutureWarning: Calling int on a single element Series is deprecated and will raise a TypeError in the future. Use int(ser.iloc[0]) instead\n",
      "  time=int(extended_GF.time.tail(1) + 1), rate=0\n"
     ]
    }
   ],
   "source": [
    "import stdpopsim\n",
    "import msprime\n",
    "import numpy as np\n",
    "from collections import Counter\n",
    "from dismal import multimodel, models\n",
    "from dismal import model_instance\n",
    "import warnings \n",
    "import seaborn as sns\n",
    "import pandas as pd\n",
    "import math\n",
    "import demesdraw"
   ]
  },
  {
   "cell_type": "code",
   "execution_count": 3,
   "metadata": {},
   "outputs": [],
   "source": [
    "demography = stdpopsim.get_species(\"DroMel\").get_demographic_model(\"OutOfAfrica_2L06\").model"
   ]
  },
  {
   "cell_type": "code",
   "execution_count": 4,
   "metadata": {},
   "outputs": [],
   "source": [
    "treeseqs = msprime.sim_ancestry(samples={\"AFR\":2, \"EUR\":2},\n",
    "                                       ploidy=1,\n",
    "                                       demography=demography, \n",
    "                                       recombination_rate=2.4e-8, \n",
    "                                       sequence_length=100, \n",
    "                                       num_replicates=30000)"
   ]
  },
  {
   "cell_type": "code",
   "execution_count": 8,
   "metadata": {},
   "outputs": [],
   "source": [
    "def seg_sites_from_ts(ts):\n",
    "    \"\"\"Add mutations to single treesequence and count number of segregating sites\"\"\"\n",
    "    mts = msprime.sim_mutations(ts, rate=1e-9)\n",
    "    divmat = mts.divergence_matrix(span_normalise=False)\n",
    "    state1_s = np.array([divmat[0, 1]])\n",
    "    state2_s = np.array([divmat[2, 3]])\n",
    "    state3_s = np.array([divmat[0, 2], divmat[0, 3], \n",
    "                             divmat[1, 2], divmat[1, 3]])\n",
    "\n",
    "    return state1_s, state2_s, state3_s"
   ]
  },
  {
   "cell_type": "code",
   "execution_count": 9,
   "metadata": {},
   "outputs": [],
   "source": [
    "seg_sites = [seg_sites_from_ts(ts) for ts in treeseqs]"
   ]
  },
  {
   "cell_type": "code",
   "execution_count": 20,
   "metadata": {},
   "outputs": [
    {
     "data": {
      "text/plain": [
       "array([1., 0., 0., ..., 1., 0., 0.])"
      ]
     },
     "execution_count": 20,
     "metadata": {},
     "output_type": "execute_result"
    }
   ],
   "source": [
    "s1 = np.concatenate([entry[0] for entry in seg_sites])\n",
    "s1"
   ]
  },
  {
   "cell_type": "code",
   "execution_count": 22,
   "metadata": {},
   "outputs": [],
   "source": [
    "Counter(s1)\n",
    "s1_arr = np.zeros(500)\n",
    "for (key, val) in Counter(s1).items():\n",
    "    s1_arr[(int(key))] = val"
   ]
  },
  {
   "cell_type": "code",
   "execution_count": 35,
   "metadata": {},
   "outputs": [
    {
     "data": {
      "text/plain": [
       "array([[0., 0.],\n",
       "       [0., 0.]])"
      ]
     },
     "execution_count": 35,
     "metadata": {},
     "output_type": "execute_result"
    }
   ],
   "source": [
    "demography.migration_matrix"
   ]
  },
  {
   "cell_type": "code",
   "execution_count": 5,
   "metadata": {},
   "outputs": [],
   "source": [
    "sfs = [ts.allele_frequency_spectrum(span_normalise=False) for ts in mut_treeseqs]"
   ]
  },
  {
   "cell_type": "code",
   "execution_count": 12,
   "metadata": {},
   "outputs": [],
   "source": [
    "sfs_list = [tuple(entry[1:-1]) for entry in sfs]"
   ]
  },
  {
   "cell_type": "code",
   "execution_count": 13,
   "metadata": {},
   "outputs": [
    {
     "data": {
      "text/plain": [
       "dict_values([1243, 927, 585, 318, 144, 81, 45, 20, 6, 4, 1, 2386, 17, 1688, 21, 936, 16, 447, 6, 203, 4, 87, 1, 29, 1, 15, 1, 8, 2, 1, 2662, 60, 1943, 37, 962, 24, 447, 13, 191, 7, 82, 2, 40, 5, 11, 1, 2, 5, 2, 1, 2322, 72, 1570, 53, 764, 23, 359, 12, 146, 2, 59, 6, 25, 1, 5, 1, 3, 1648, 53, 1116, 46, 544, 21, 227, 14, 92, 10, 31, 5, 17, 2, 6, 1, 3, 989, 40, 684, 41, 377, 15, 155, 14, 51, 6, 18, 4, 6, 3, 1, 601, 36, 340, 32, 202, 14, 71, 8, 37, 4, 12, 1, 5, 1, 269, 20, 185, 19, 83, 8, 45, 8, 9, 1, 6, 3, 1, 1, 135, 7, 69, 5, 44, 4, 16, 4, 4, 2, 5, 1, 53, 4, 47, 5, 24, 3, 12, 2, 4, 2, 2, 1, 29, 4, 20, 4, 6, 1, 1, 1, 2, 1, 1, 1, 10, 1, 12, 1, 5, 3, 4, 5, 1, 1, 2, 3, 1])"
      ]
     },
     "execution_count": 13,
     "metadata": {},
     "output_type": "execute_result"
    }
   ],
   "source": [
    "Counter(sorted(sfs_list)).values()"
   ]
  },
  {
   "cell_type": "code",
   "execution_count": 14,
   "metadata": {},
   "outputs": [
    {
     "data": {
      "text/plain": [
       "Counter({(2.0, 0.0, 0.0): 2662,\n",
       "         (1.0, 0.0, 0.0): 2386,\n",
       "         (3.0, 0.0, 0.0): 2322,\n",
       "         (2.0, 1.0, 0.0): 1943,\n",
       "         (1.0, 1.0, 0.0): 1688,\n",
       "         (4.0, 0.0, 0.0): 1648,\n",
       "         (3.0, 1.0, 0.0): 1570,\n",
       "         (0.0, 0.0, 0.0): 1243,\n",
       "         (4.0, 1.0, 0.0): 1116,\n",
       "         (5.0, 0.0, 0.0): 989,\n",
       "         (2.0, 2.0, 0.0): 962,\n",
       "         (1.0, 2.0, 0.0): 936,\n",
       "         (0.0, 1.0, 0.0): 927,\n",
       "         (3.0, 2.0, 0.0): 764,\n",
       "         (5.0, 1.0, 0.0): 684,\n",
       "         (6.0, 0.0, 0.0): 601,\n",
       "         (0.0, 2.0, 0.0): 585,\n",
       "         (4.0, 2.0, 0.0): 544,\n",
       "         (1.0, 3.0, 0.0): 447,\n",
       "         (2.0, 3.0, 0.0): 447,\n",
       "         (5.0, 2.0, 0.0): 377,\n",
       "         (3.0, 3.0, 0.0): 359,\n",
       "         (6.0, 1.0, 0.0): 340,\n",
       "         (0.0, 3.0, 0.0): 318,\n",
       "         (7.0, 0.0, 0.0): 269,\n",
       "         (4.0, 3.0, 0.0): 227,\n",
       "         (1.0, 4.0, 0.0): 203,\n",
       "         (6.0, 2.0, 0.0): 202,\n",
       "         (2.0, 4.0, 0.0): 191,\n",
       "         (7.0, 1.0, 0.0): 185,\n",
       "         (5.0, 3.0, 0.0): 155,\n",
       "         (3.0, 4.0, 0.0): 146,\n",
       "         (0.0, 4.0, 0.0): 144,\n",
       "         (8.0, 0.0, 0.0): 135,\n",
       "         (4.0, 4.0, 0.0): 92,\n",
       "         (1.0, 5.0, 0.0): 87,\n",
       "         (7.0, 2.0, 0.0): 83,\n",
       "         (2.0, 5.0, 0.0): 82,\n",
       "         (0.0, 5.0, 0.0): 81,\n",
       "         (3.0, 0.5, 0.0): 72,\n",
       "         (6.0, 3.0, 0.0): 71,\n",
       "         (8.0, 1.0, 0.0): 69,\n",
       "         (2.0, 0.5, 0.0): 60,\n",
       "         (3.0, 5.0, 0.0): 59,\n",
       "         (3.0, 1.5, 0.0): 53,\n",
       "         (4.0, 0.5, 0.0): 53,\n",
       "         (9.0, 0.0, 0.0): 53,\n",
       "         (5.0, 4.0, 0.0): 51,\n",
       "         (9.0, 1.0, 0.0): 47,\n",
       "         (4.0, 1.5, 0.0): 46,\n",
       "         (0.0, 6.0, 0.0): 45,\n",
       "         (7.0, 3.0, 0.0): 45,\n",
       "         (8.0, 2.0, 0.0): 44,\n",
       "         (5.0, 1.5, 0.0): 41,\n",
       "         (2.0, 6.0, 0.0): 40,\n",
       "         (5.0, 0.5, 0.0): 40,\n",
       "         (2.0, 1.5, 0.0): 37,\n",
       "         (6.0, 4.0, 0.0): 37,\n",
       "         (6.0, 0.5, 0.0): 36,\n",
       "         (6.0, 1.5, 0.0): 32,\n",
       "         (4.0, 5.0, 0.0): 31,\n",
       "         (1.0, 6.0, 0.0): 29,\n",
       "         (10.0, 0.0, 0.0): 29,\n",
       "         (3.0, 6.0, 0.0): 25,\n",
       "         (2.0, 2.5, 0.0): 24,\n",
       "         (9.0, 2.0, 0.0): 24,\n",
       "         (3.0, 2.5, 0.0): 23,\n",
       "         (1.0, 1.5, 0.0): 21,\n",
       "         (4.0, 2.5, 0.0): 21,\n",
       "         (0.0, 7.0, 0.0): 20,\n",
       "         (7.0, 0.5, 0.0): 20,\n",
       "         (10.0, 1.0, 0.0): 20,\n",
       "         (7.0, 1.5, 0.0): 19,\n",
       "         (5.0, 5.0, 0.0): 18,\n",
       "         (1.0, 0.5, 0.0): 17,\n",
       "         (4.0, 6.0, 0.0): 17,\n",
       "         (1.0, 2.5, 0.0): 16,\n",
       "         (8.0, 3.0, 0.0): 16,\n",
       "         (1.0, 7.0, 0.0): 15,\n",
       "         (5.0, 2.5, 0.0): 15,\n",
       "         (4.0, 3.5, 0.0): 14,\n",
       "         (5.0, 3.5, 0.0): 14,\n",
       "         (6.0, 2.5, 0.0): 14,\n",
       "         (2.0, 3.5, 0.0): 13,\n",
       "         (3.0, 3.5, 0.0): 12,\n",
       "         (6.0, 5.0, 0.0): 12,\n",
       "         (9.0, 3.0, 0.0): 12,\n",
       "         (11.0, 1.0, 0.0): 12,\n",
       "         (2.0, 7.0, 0.0): 11,\n",
       "         (4.0, 4.5, 0.0): 10,\n",
       "         (11.0, 0.0, 0.0): 10,\n",
       "         (7.0, 4.0, 0.0): 9,\n",
       "         (1.0, 8.0, 0.0): 8,\n",
       "         (6.0, 3.5, 0.0): 8,\n",
       "         (7.0, 2.5, 0.0): 8,\n",
       "         (7.0, 3.5, 0.0): 8,\n",
       "         (2.0, 4.5, 0.0): 7,\n",
       "         (8.0, 0.5, 0.0): 7,\n",
       "         (0.0, 8.0, 0.0): 6,\n",
       "         (1.0, 3.5, 0.0): 6,\n",
       "         (3.0, 5.5, 0.0): 6,\n",
       "         (4.0, 7.0, 0.0): 6,\n",
       "         (5.0, 4.5, 0.0): 6,\n",
       "         (5.0, 6.0, 0.0): 6,\n",
       "         (7.0, 5.0, 0.0): 6,\n",
       "         (10.0, 2.0, 0.0): 6,\n",
       "         (2.0, 6.5, 0.0): 5,\n",
       "         (2.0, 9.0, 0.0): 5,\n",
       "         (3.0, 7.0, 0.0): 5,\n",
       "         (4.0, 5.5, 0.0): 5,\n",
       "         (6.0, 6.0, 0.0): 5,\n",
       "         (8.0, 1.5, 0.0): 5,\n",
       "         (8.0, 5.0, 0.0): 5,\n",
       "         (9.0, 1.5, 0.0): 5,\n",
       "         (11.0, 2.0, 0.0): 5,\n",
       "         (12.0, 1.0, 0.0): 5,\n",
       "         (0.0, 9.0, 0.0): 4,\n",
       "         (1.0, 4.5, 0.0): 4,\n",
       "         (5.0, 5.5, 0.0): 4,\n",
       "         (6.0, 4.5, 0.0): 4,\n",
       "         (8.0, 2.5, 0.0): 4,\n",
       "         (8.0, 3.5, 0.0): 4,\n",
       "         (8.0, 4.0, 0.0): 4,\n",
       "         (9.0, 0.5, 0.0): 4,\n",
       "         (9.0, 4.0, 0.0): 4,\n",
       "         (10.0, 0.5, 0.0): 4,\n",
       "         (10.0, 1.5, 0.0): 4,\n",
       "         (12.0, 0.0, 0.0): 4,\n",
       "         (3.0, 8.0, 0.0): 3,\n",
       "         (4.0, 8.0, 0.0): 3,\n",
       "         (5.0, 7.0, 0.0): 3,\n",
       "         (7.0, 6.0, 0.0): 3,\n",
       "         (9.0, 2.5, 0.0): 3,\n",
       "         (11.0, 2.5, 0.0): 3,\n",
       "         (13.0, 0.0, 0.0): 3,\n",
       "         (1.0, 9.0, 0.0): 2,\n",
       "         (2.0, 5.5, 0.0): 2,\n",
       "         (2.0, 8.0, 0.0): 2,\n",
       "         (2.0, 10.0, 0.0): 2,\n",
       "         (3.0, 4.5, 0.0): 2,\n",
       "         (4.0, 6.5, 0.0): 2,\n",
       "         (8.0, 4.5, 0.0): 2,\n",
       "         (9.0, 3.5, 0.0): 2,\n",
       "         (9.0, 5.0, 0.0): 2,\n",
       "         (9.0, 6.0, 0.0): 2,\n",
       "         (10.0, 4.0, 0.0): 2,\n",
       "         (12.0, 3.0, 0.0): 2,\n",
       "         (0.0, 10.0, 0.0): 1,\n",
       "         (1.0, 5.5, 0.0): 1,\n",
       "         (1.0, 6.5, 0.0): 1,\n",
       "         (1.0, 7.5, 0.0): 1,\n",
       "         (1.0, 12.0, 0.0): 1,\n",
       "         (2.0, 7.5, 0.0): 1,\n",
       "         (2.0, 11.5, 0.0): 1,\n",
       "         (3.0, 6.5, 0.0): 1,\n",
       "         (3.0, 7.5, 0.0): 1,\n",
       "         (4.0, 7.5, 0.0): 1,\n",
       "         (5.0, 8.0, 0.0): 1,\n",
       "         (6.0, 5.5, 0.0): 1,\n",
       "         (6.0, 6.5, 0.0): 1,\n",
       "         (7.0, 4.5, 0.0): 1,\n",
       "         (7.0, 7.0, 0.0): 1,\n",
       "         (7.0, 8.0, 0.0): 1,\n",
       "         (8.0, 9.5, 0.0): 1,\n",
       "         (9.0, 7.0, 0.0): 1,\n",
       "         (10.0, 2.5, 0.0): 1,\n",
       "         (10.0, 3.0, 0.0): 1,\n",
       "         (10.0, 3.5, 0.0): 1,\n",
       "         (10.0, 4.5, 0.0): 1,\n",
       "         (10.0, 5.0, 0.0): 1,\n",
       "         (10.0, 6.0, 0.0): 1,\n",
       "         (11.0, 0.5, 0.0): 1,\n",
       "         (11.0, 1.5, 0.0): 1,\n",
       "         (12.0, 1.5, 0.0): 1,\n",
       "         (12.0, 2.0, 0.0): 1,\n",
       "         (13.0, 2.0, 0.0): 1})"
      ]
     },
     "execution_count": 14,
     "metadata": {},
     "output_type": "execute_result"
    }
   ],
   "source": [
    "Counter(sorted(sfs_list))"
   ]
  },
  {
   "cell_type": "code",
   "execution_count": null,
   "metadata": {},
   "outputs": [],
   "source": []
  }
 ],
 "metadata": {
  "kernelspec": {
   "display_name": "dismal",
   "language": "python",
   "name": "python3"
  },
  "language_info": {
   "codemirror_mode": {
    "name": "ipython",
    "version": 3
   },
   "file_extension": ".py",
   "mimetype": "text/x-python",
   "name": "python",
   "nbconvert_exporter": "python",
   "pygments_lexer": "ipython3",
   "version": "3.12.1"
  }
 },
 "nbformat": 4,
 "nbformat_minor": 2
}
