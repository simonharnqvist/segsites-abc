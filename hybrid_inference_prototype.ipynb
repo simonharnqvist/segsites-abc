{
 "cells": [
  {
   "cell_type": "code",
   "execution_count": 1,
   "metadata": {},
   "outputs": [],
   "source": [
    "import pyranges as pr\n",
    "import numpy as np\n",
    "from collections import Counter\n",
    "import functions\n",
    "from dismal.models import im, gim, iso_two_epoch\n",
    "from dismal import model_instance\n",
    "from scipy import stats\n",
    "import tqdm\n",
    "from joblib import Parallel, delayed\n",
    "import os\n",
    "import itertools"
   ]
  },
  {
   "cell_type": "code",
   "execution_count": 2,
   "metadata": {},
   "outputs": [],
   "source": [
    "# simulate simple IM model\n",
    "modinst = model_instance.ModelInstance(param_vals=(3, 2, 4, 2, 0.1, 0.2), epochs=im().epochs)\n",
    "true_mod = modinst.simulate(mutation_rate=1e-9, blocklen=500, recombination_rate=0, blocks_per_state=10_000)"
   ]
  },
  {
   "cell_type": "code",
   "execution_count": 3,
   "metadata": {},
   "outputs": [
    {
     "data": {
      "text/html": [
       "<div style=\"margin-left:20px\"><div><style scoped=\"\">\n",
       "            .tskit-table thead tr th:only-of-type {vertical-align: middle;}\n",
       "            .tskit-table thead tr th {text-align: center;vertical-align: top;}\n",
       "            .tskit-table tbody td {text-align: right;padding: 0.5em 0.5em;}\n",
       "            .tskit-table tbody th {padding: 0.5em 0.5em;}\n",
       "        </style><b>Populations (3)</b><table border=\"1\" class=\"tskit-table\"><thead><tr><th>id</th><th>name</th><th>description</th><th>initial_size</th><th>growth_rate</th><th>default_sampling_time</th><th>extra_metadata</th></tr></thead><tbody><tr><td>0</td><td>pop1_be760db4f5</td><td></td><td>1500000.0</td><td>0</td><td>0</td><td>{}</td></tr><tr><td>1</td><td>pop2_8204835a35</td><td></td><td>1000000.0</td><td>0</td><td>0</td><td>{}</td></tr><tr><td>2</td><td>pop1_63258ea307</td><td></td><td>2000000.0</td><td>0</td><td>6e+06</td><td>{}</td></tr></tbody></table></div><div><style scoped=\"\">\n",
       "            .tskit-table thead tr th:only-of-type {vertical-align: middle;}\n",
       "            .tskit-table thead tr th {text-align: center;vertical-align: top;}\n",
       "            .tskit-table tbody td {text-align: right;padding: 0.5em 0.5em;}\n",
       "            .tskit-table tbody th {padding: 0.5em 0.5em;}\n",
       "        </style><b>Migration matrix</b><table border=\"1\" class=\"tskit-table\"><thead><tr><th></th><th>pop1_be760db4f5</th><th>pop2_8204835a35</th><th>pop1_63258ea307</th></tr></thead><tbody><tr><td>pop1_be760db4f5</td><td>0</td><td title='Backwards in time migration rate from population pop1_be760db4f5 to\n",
       "pop2_8204835a35 = 1.6666666666666667e-08 per generation. Forwards in time, this\n",
       "is the expected number of migrants moving from pop2_8204835a35 to\n",
       "pop1_be760db4f5 per generation, divided by the size of pop1_be760db4f5.'>1.667e-08</td><td title='Backwards in time migration rate from population pop1_be760db4f5 to\n",
       "pop1_63258ea307 = 0.0 per generation. Forwards in time, this is the expected\n",
       "number of migrants moving from pop1_63258ea307 to pop1_be760db4f5 per\n",
       "generation, divided by the size of pop1_be760db4f5.'>0</td></tr><tr><td>pop2_8204835a35</td><td title='Backwards in time migration rate from population pop2_8204835a35 to\n",
       "pop1_be760db4f5 = 5.0000000000000004e-08 per generation. Forwards in time, this\n",
       "is the expected number of migrants moving from pop1_be760db4f5 to\n",
       "pop2_8204835a35 per generation, divided by the size of pop2_8204835a35.'>5e-08</td><td>0</td><td title='Backwards in time migration rate from population pop2_8204835a35 to\n",
       "pop1_63258ea307 = 0.0 per generation. Forwards in time, this is the expected\n",
       "number of migrants moving from pop1_63258ea307 to pop2_8204835a35 per\n",
       "generation, divided by the size of pop2_8204835a35.'>0</td></tr><tr><td>pop1_63258ea307</td><td title='Backwards in time migration rate from population pop1_63258ea307 to\n",
       "pop1_be760db4f5 = 0.0 per generation. Forwards in time, this is the expected\n",
       "number of migrants moving from pop1_be760db4f5 to pop1_63258ea307 per\n",
       "generation, divided by the size of pop1_63258ea307.'>0</td><td title='Backwards in time migration rate from population pop1_63258ea307 to\n",
       "pop2_8204835a35 = 0.0 per generation. Forwards in time, this is the expected\n",
       "number of migrants moving from pop2_8204835a35 to pop1_63258ea307 per\n",
       "generation, divided by the size of pop1_63258ea307.'>0</td><td>0</td></tr></tbody></table></div><div><style scoped=\"\">\n",
       "            .tskit-table thead tr th:only-of-type {vertical-align: middle;}\n",
       "            .tskit-table thead tr th {text-align: center;vertical-align: top;}\n",
       "            .tskit-table tbody td {text-align: right;padding: 0.5em 0.5em;}\n",
       "            .tskit-table tbody th {padding: 0.5em 0.5em;}\n",
       "        </style><b>Events (2)</b><table border=\"1\" class=\"tskit-table\"><thead><tr><th>time</th><th>type</th><th>parameters</th><th>effect</th></tr></thead><tbody><tr><td>6e+06</td><td><a href='https://tskit.dev/msprime/docs/latest/api.html#msprime.Demography.add_population_split'>Population Split</a></td><td>derived=[pop1_be760db4f5], ancestral=pop1_63258ea307</td><td>Moves all lineages from the &#x27;pop1_be760db4f5&#x27; derived population to the ancestral &#x27;pop1_63258ea307&#x27; population. Also set &#x27;pop1_be760db4f5&#x27; to inactive, and all migration rates to and from the derived population to zero.</td></tr><tr><td>6e+06</td><td><a href='https://tskit.dev/msprime/docs/latest/api.html#msprime.Demography.add_population_split'>Population Split</a></td><td>derived=[pop2_8204835a35], ancestral=pop1_63258ea307</td><td>Moves all lineages from the &#x27;pop2_8204835a35&#x27; derived population to the ancestral &#x27;pop1_63258ea307&#x27; population. Also set &#x27;pop2_8204835a35&#x27; to inactive, and all migration rates to and from the derived population to zero.</td></tr></tbody></table></div></div>"
      ],
      "text/plain": [
       "Demography(populations=[Population(initial_size=1500000.0, growth_rate=0, name='pop1_be760db4f5', description='', extra_metadata={}, default_sampling_time=None, initially_active=None, id=0), Population(initial_size=1000000.0, growth_rate=0, name='pop2_8204835a35', description='', extra_metadata={}, default_sampling_time=None, initially_active=None, id=1), Population(initial_size=2000000.0, growth_rate=0, name='pop1_63258ea307', description='', extra_metadata={}, default_sampling_time=6000000.0, initially_active=False, id=2)], events=[PopulationSplit(time=6000000.0, derived=['pop1_be760db4f5'], ancestral='pop1_63258ea307'), PopulationSplit(time=6000000.0, derived=['pop2_8204835a35'], ancestral='pop1_63258ea307')], migration_matrix=array([[0.        , 0.00000002, 0.        ],\n",
       "       [0.00000005, 0.        , 0.        ],\n",
       "       [0.        , 0.        , 0.        ]]))"
      ]
     },
     "execution_count": 3,
     "metadata": {},
     "output_type": "execute_result"
    }
   ],
   "source": [
    "true_mod.demography"
   ]
  },
  {
   "cell_type": "code",
   "execution_count": 4,
   "metadata": {},
   "outputs": [],
   "source": [
    "def theta_prior(n):\n",
    "    return stats.uniform.rvs(loc=1, scale=10, size=n)\n",
    "\n",
    "def tau_prior(n):\n",
    "    return stats.uniform.rvs(loc=1, scale=10, size=n)\n",
    "\n",
    "def M_prior(n):\n",
    "    return stats.uniform.rvs(loc=0, scale=2, size=n)"
   ]
  },
  {
   "cell_type": "code",
   "execution_count": 5,
   "metadata": {},
   "outputs": [],
   "source": [
    "def prior_param_set(migration=True):\n",
    "    prior = np.concatenate([theta_prior(3), tau_prior(1)])\n",
    "\n",
    "    if migration is True:\n",
    "        prior = np.concatenate([prior, M_prior(2)])\n",
    "    else:\n",
    "        prior = np.concatenate([prior, np.array([0,0])])\n",
    "\n",
    "    return prior"
   ]
  },
  {
   "cell_type": "code",
   "execution_count": 9,
   "metadata": {},
   "outputs": [],
   "source": [
    "def generate_embedding(): \n",
    "\n",
    "\n",
    "    mod = im()\n",
    "    blocklen = 500\n",
    "\n",
    "    params = prior_param_set(migration=True)\n",
    "\n",
    "    sim = model_instance.ModelInstance(params, epochs=mod.epochs).simulate(mutation_rate=1e-9, \n",
    "                                                                        blocklen=blocklen, \n",
    "                                                                        blocks_per_state=10000, \n",
    "                                                                        recombination_rate=0)\n",
    "\n",
    "\n",
    "    s1, s2, s3 = [np.pad(s_arr, (0, blocklen-len(s_arr))) for s_arr in [sim.s1, sim.s2, sim.s3]]\n",
    "    \n",
    "    try:\n",
    "        mod.fit_model(s1, s2, s3, optimisers=[\"Nelder-Mead\"])\n",
    "        dismal_pred = mod.inferred_params\n",
    "    except RuntimeError:\n",
    "        dismal_pred = np.empty((6,))\n",
    "        dismal_pred[:] = np.nan\n",
    "\n",
    "    embedding = np.concatenate([s1, s2, s3])\n",
    "\n",
    "    return params, dismal_pred, embedding"
   ]
  },
  {
   "cell_type": "code",
   "execution_count": 12,
   "metadata": {},
   "outputs": [],
   "source": [
    "def make_training_data(n, save_as=None):\n",
    "    num_sims_per_mod = n\n",
    "    threads = 7\n",
    "\n",
    "    res = []\n",
    "    res.append(\n",
    "        list(tqdm.tqdm(Parallel(n_jobs=threads, return_as=\"generator\")(\n",
    "                delayed(generate_embedding)() for _ in range(num_sims_per_mod)), total=num_sims_per_mod)))\n",
    "\n",
    "    res = list(itertools.chain(*res))\n",
    "            \n",
    "    y_params = np.array([entry[0] for entry in res])\n",
    "    X_dismal_pred = np.array([entry[1] for entry in res])\n",
    "    X_embeddings = np.array([entry[2] for entry in res])\n",
    "\n",
    "    if save_as is not None:\n",
    "        np.savez(save_as, X_dismal_pred=X_dismal_pred, X_embeddings=X_embeddings, y_params=y_params)\n",
    "            \n",
    "    return X_embeddings, X_dismal_pred, y_params\n",
    "    "
   ]
  },
  {
   "cell_type": "code",
   "execution_count": 14,
   "metadata": {},
   "outputs": [
    {
     "name": "stderr",
     "output_type": "stream",
     "text": [
      "100%|██████████| 1/1 [01:40<00:00, 100.82s/it]\n"
     ]
    },
    {
     "data": {
      "text/plain": [
       "(array([[1148.,  909.,  829., ...,    0.,    0.,    0.]]),\n",
       " array([[9.65757543, 4.97556568, 5.34230084, 2.5819923 , 0.00005221,\n",
       "         0.00017226]]),\n",
       " array([[1.1932046 , 7.47021684, 5.16639757, 4.37178454, 1.36229273,\n",
       "         0.86275693]]))"
      ]
     },
     "execution_count": 14,
     "metadata": {},
     "output_type": "execute_result"
    }
   ],
   "source": [
    "make_training_data(1)"
   ]
  },
  {
   "cell_type": "code",
   "execution_count": null,
   "metadata": {},
   "outputs": [],
   "source": []
  }
 ],
 "metadata": {
  "kernelspec": {
   "display_name": "dismal",
   "language": "python",
   "name": "python3"
  },
  "language_info": {
   "codemirror_mode": {
    "name": "ipython",
    "version": 3
   },
   "file_extension": ".py",
   "mimetype": "text/x-python",
   "name": "python",
   "nbconvert_exporter": "python",
   "pygments_lexer": "ipython3",
   "version": "3.11.3"
  }
 },
 "nbformat": 4,
 "nbformat_minor": 2
}
